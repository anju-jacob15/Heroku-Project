{
 "cells": [
  {
   "cell_type": "code",
   "execution_count": 2,
   "id": "7e8bcf29",
   "metadata": {},
   "outputs": [],
   "source": [
    "import numpy as np\n",
    "import pandas as pd\n",
    "from apyori import apriori\n",
    "from mlxtend.frequent_patterns import association_rules\n",
    "import pickle\n",
    "import matplotlib.pyplot as plt\n",
    "from flask import Flask,request,jsonify,render_template"
   ]
  },
  {
   "cell_type": "code",
   "execution_count": 3,
   "id": "b16717a9",
   "metadata": {},
   "outputs": [],
   "source": [
    "data = pd.read_csv(\"C:\\\\Users\\\\ANJU SUSAN\\\\Downloads\\\\basket.csv\")"
   ]
  },
  {
   "cell_type": "code",
   "execution_count": 4,
   "id": "f9350e3b",
   "metadata": {},
   "outputs": [],
   "source": [
    "transactions=[]  \n",
    "for i in range(0, 14962):  \n",
    "    transactions.append([str(data.values[i,j])  for j in range(0,3)])"
   ]
  },
  {
   "cell_type": "code",
   "execution_count": 5,
   "id": "3d1f365f",
   "metadata": {},
   "outputs": [],
   "source": [
    "rules=apriori(transactions=transactions,min_support=0.00001,min_confidence = 0.1, min_lift=1, min_length=2, max_length=2)"
   ]
  },
  {
   "cell_type": "code",
   "execution_count": 6,
   "id": "d231c978",
   "metadata": {},
   "outputs": [
    {
     "data": {
      "text/plain": [
       "196"
      ]
     },
     "execution_count": 6,
     "metadata": {},
     "output_type": "execute_result"
    }
   ],
   "source": [
    "results = list(rules)\n",
    "len(results)"
   ]
  },
  {
   "cell_type": "code",
   "execution_count": 7,
   "id": "dc832a0c",
   "metadata": {},
   "outputs": [],
   "source": [
    "def all1():\n",
    "    outputArray=[]\n",
    "    for item in results: \n",
    "        pair = item[0]   \n",
    "        items = [x for x in pair]  \n",
    "        \n",
    "        if len(items) > 1:\n",
    "            output=items[0],items[1],str(item[1]),str(item[2][0][2]),str(item[2][0][3])\n",
    "            outputArray.append(output)       \n",
    "    return outputArray"
   ]
  },
  {
   "cell_type": "code",
   "execution_count": 8,
   "id": "727a9eee",
   "metadata": {},
   "outputs": [],
   "source": [
    "def specific(abc):\n",
    "    outputArray=[]\n",
    "    for item in results:  \n",
    "        pair = item[0]   \n",
    "        items = [x for x in pair]  \n",
    "        \n",
    "        if(len(items) > 1 and items[0] == abc): \n",
    "            output=items[0],items[1],str(item[1]),str(item[2][0][2]),str(item[2][0][3])\n",
    "            outputArray.append(items[1])\n",
    "    return outputArray     "
   ]
  },
  {
   "cell_type": "code",
   "execution_count": null,
   "id": "6166bb63",
   "metadata": {
    "scrolled": true
   },
   "outputs": [],
   "source": [
    "# start flask\n",
    "app = Flask(__name__)\n",
    "\n",
    "# render default webpage\n",
    "@app.route('/')\n",
    "def home():\n",
    "    return render_template('index.html')\n",
    "\n",
    "@app.route('/calculate',methods=['POST'])\n",
    "def calculate():\n",
    "    \n",
    "    val2=request.form['value2']\n",
    "    \n",
    "    \n",
    "    if request.form['submit_button'] == 'View All Datasets':\n",
    "        ret1=all1()\n",
    "        return render_template('index.html',prediction_test1='Following is the output {}'.format(ret1))\n",
    "        \n",
    "    if request.form['submit_button'] == 'Submit':\n",
    "        ret2=specific(val2)\n",
    "        return render_template('index.html',prediction_test2='Following is the output {}'.format(ret2))\n",
    "\n",
    "    return \n",
    "    \n",
    "    \n",
    "if __name__ == '__main__':\n",
    "    app.run(debug=True)"
   ]
  },
  {
   "cell_type": "code",
   "execution_count": null,
   "id": "a968eb83",
   "metadata": {},
   "outputs": [],
   "source": []
  }
 ],
 "metadata": {
  "kernelspec": {
   "display_name": "Python 3",
   "language": "python",
   "name": "python3"
  },
  "language_info": {
   "codemirror_mode": {
    "name": "ipython",
    "version": 3
   },
   "file_extension": ".py",
   "mimetype": "text/x-python",
   "name": "python",
   "nbconvert_exporter": "python",
   "pygments_lexer": "ipython3",
   "version": "3.8.8"
  }
 },
 "nbformat": 4,
 "nbformat_minor": 5
}
